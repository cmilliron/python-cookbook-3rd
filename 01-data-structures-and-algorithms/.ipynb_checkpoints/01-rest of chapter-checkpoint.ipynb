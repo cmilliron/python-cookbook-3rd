{
 "cells": [
  {
   "cell_type": "markdown",
   "id": "00d8f059-434e-4a4e-a7ef-0a6c2ef3e69d",
   "metadata": {},
   "source": [
    " ## Keeping Dictionaries in Order\n",
    "\n",
    " ### Problem:\n",
    " You want to create a dictionary, and you also want to contorl the order of items when iterating or serializing. \n",
    "\n",
    " ### Solution\n",
    " To control the order of items in a dictionary, you can use an OrderedDict from the collections module. It exactly preserves the original insertion order of data when iterating."
   ]
  },
  {
   "cell_type": "code",
   "execution_count": 1,
   "id": "1a47bba8-e463-4e6b-af3f-0a8e1df432b3",
   "metadata": {},
   "outputs": [],
   "source": [
    " from collections import OrderedDict"
   ]
  },
  {
   "cell_type": "code",
   "execution_count": 4,
   "id": "16c8bb0e-efe4-499f-bad6-b18330d29699",
   "metadata": {},
   "outputs": [],
   "source": [
    "d = OrderedDict()\n",
    "d['foo'] = 1\n",
    "d['bar'] = 2\n",
    "d['spam'] = 3\n",
    "d['grok'] = 4\n",
    "d['pickles'] = 7\n",
    "d['sandwich'] = 5"
   ]
  },
  {
   "cell_type": "code",
   "execution_count": 5,
   "id": "9af427ff-4bbc-46fe-a619-e6887364a7f6",
   "metadata": {},
   "outputs": [
    {
     "data": {
      "text/plain": [
       "OrderedDict([('foo', 1),\n",
       "             ('bar', 2),\n",
       "             ('spam', 3),\n",
       "             ('grok', 4),\n",
       "             ('pickles', 7),\n",
       "             ('sandwich', 5)])"
      ]
     },
     "execution_count": 5,
     "metadata": {},
     "output_type": "execute_result"
    }
   ],
   "source": [
    "d"
   ]
  },
  {
   "cell_type": "code",
   "execution_count": 6,
   "id": "1a08b6ce-fd40-49ec-b963-769147115b11",
   "metadata": {},
   "outputs": [],
   "source": [
    "import json\n"
   ]
  },
  {
   "cell_type": "code",
   "execution_count": 7,
   "id": "36ff134d-67ac-439a-b970-59eefb639c60",
   "metadata": {},
   "outputs": [
    {
     "data": {
      "text/plain": [
       "'{\"foo\": 1, \"bar\": 2, \"spam\": 3, \"grok\": 4, \"pickles\": 7, \"sandwich\": 5}'"
      ]
     },
     "execution_count": 7,
     "metadata": {},
     "output_type": "execute_result"
    }
   ],
   "source": [
    "json.dumps(d)"
   ]
  },
  {
   "cell_type": "code",
   "execution_count": null,
   "id": "904358e7-8aae-4da1-9e82-75ecbd9a7da3",
   "metadata": {},
   "outputs": [],
   "source": []
  },
  {
   "cell_type": "markdown",
   "id": "755c9aa0-6a6b-47f2-aa84-c08b4ad6a098",
   "metadata": {},
   "source": [
    "## 1.8. Calculating with Dictionaries\n",
    "\n",
    "### Problem\n",
    "\n",
    "You want to perform various calculations (e.g., minimum value, maximum value, sorting, etc.) on a dictionary of data.\n",
    "\n",
    "### Solution\n",
    "\n",
    "Consider a dictionary that maps stock names to prices:"
   ]
  },
  {
   "cell_type": "code",
   "execution_count": 8,
   "id": "b35dc470-31ae-42d8-8477-00ef787bbc3c",
   "metadata": {},
   "outputs": [],
   "source": [
    "prices = {\n",
    "   'ACME': 45.23,\n",
    "   'AAPL': 612.78,\n",
    "   'IBM': 205.55,\n",
    "   'HPQ': 37.20,\n",
    "   'FB': 10.75\n",
    "}"
   ]
  },
  {
   "cell_type": "markdown",
   "id": "936b25ee-fd45-4f27-a6d6-7e458aaf756c",
   "metadata": {},
   "source": [
    "zip() allows for us to make tuple that we can sort by the price easily. "
   ]
  },
  {
   "cell_type": "code",
   "execution_count": 12,
   "id": "cfb6b0c2-f35f-4fe7-aeaf-e15a7ee88e16",
   "metadata": {},
   "outputs": [
    {
     "name": "stdout",
     "output_type": "stream",
     "text": [
      "(10.75, 'FB')\n"
     ]
    }
   ],
   "source": [
    "min_price = min(zip(prices.values(), prices.keys()))\n",
    "print(min_price)"
   ]
  },
  {
   "cell_type": "code",
   "execution_count": 14,
   "id": "954b4d4f-031e-48ef-8701-6a43d6c9788a",
   "metadata": {},
   "outputs": [
    {
     "name": "stdout",
     "output_type": "stream",
     "text": [
      "(612.78, 'AAPL')\n"
     ]
    }
   ],
   "source": [
    "max_price = max(zip(prices.values(), prices.keys()))\n",
    "print(max_price)"
   ]
  },
  {
   "cell_type": "code",
   "execution_count": 18,
   "id": "d5845a34-03dd-4b15-9fc3-536c4a51992b",
   "metadata": {},
   "outputs": [
    {
     "name": "stdout",
     "output_type": "stream",
     "text": [
      "[(612.78, 'AAPL'), (205.55, 'IBM'), (45.23, 'ACME'), (37.2, 'HPQ'), (10.75, 'FB')]\n"
     ]
    }
   ],
   "source": [
    "# to sort\n",
    "prices_sorted = sorted(zip(prices.values(), prices.keys()))\n",
    "print(prices_sorted)"
   ]
  },
  {
   "cell_type": "code",
   "execution_count": 19,
   "id": "687bddca-a892-46b0-a98a-0b68c90b9b8a",
   "metadata": {},
   "outputs": [],
   "source": [
    "# When doing these calculations, be aware that zip() creates an iterator that can only be consumed once."
   ]
  },
  {
   "cell_type": "markdown",
   "id": "3b648d57-4acf-4e2d-aeb3-5576b1b26f42",
   "metadata": {},
   "source": [
    "## 1.9. Finding Commonalities in Two Dictionaries\n",
    "\n",
    "### Problem\n",
    "You have two dictionaries and want to find out what they might have in common (same keys, same values, etc.).\n",
    "\n",
    "### Solution\n",
    "To find out what the two dictionaries have in common, simply perform common set operations using the keys() or items() methods."
   ]
  },
  {
   "cell_type": "code",
   "execution_count": 21,
   "id": "52756c20-2259-414f-affc-afcc9c52cd8b",
   "metadata": {},
   "outputs": [],
   "source": [
    "a = {\n",
    "   'x' : 1,\n",
    "   'y' : 2,\n",
    "   'z' : 3\n",
    "}\n",
    "\n",
    "b = {\n",
    "   'w' : 10,\n",
    "   'x' : 11,\n",
    "   'y' : 2\n",
    "}"
   ]
  },
  {
   "cell_type": "code",
   "execution_count": 22,
   "id": "ba0536f2-43be-4765-af1a-9e8c6517c262",
   "metadata": {},
   "outputs": [
    {
     "data": {
      "text/plain": [
       "{'x', 'y'}"
      ]
     },
     "execution_count": 22,
     "metadata": {},
     "output_type": "execute_result"
    }
   ],
   "source": [
    "# Find keys in common\n",
    "a.keys() & b.keys()   # { 'x', 'y' }"
   ]
  },
  {
   "cell_type": "code",
   "execution_count": 23,
   "id": "066b5ad3-6c48-47e1-ae6a-5593de7dddb7",
   "metadata": {},
   "outputs": [
    {
     "data": {
      "text/plain": [
       "{'x', 'y'}"
      ]
     },
     "execution_count": 23,
     "metadata": {},
     "output_type": "execute_result"
    }
   ],
   "source": [
    "# Find keys in 'a' that are not in 'b'\n",
    "a.keys() & b.keys()"
   ]
  },
  {
   "cell_type": "code",
   "execution_count": 24,
   "id": "9cf875f9-578d-4171-8122-f2245a52d36e",
   "metadata": {},
   "outputs": [],
   "source": [
    "# Find (key, values) pairs in common"
   ]
  },
  {
   "cell_type": "code",
   "execution_count": 25,
   "id": "40f1243c-78d2-4172-8f09-8751e8992670",
   "metadata": {},
   "outputs": [
    {
     "data": {
      "text/plain": [
       "{('y', 2)}"
      ]
     },
     "execution_count": 25,
     "metadata": {},
     "output_type": "execute_result"
    }
   ],
   "source": [
    "a.items() & b.items()"
   ]
  },
  {
   "cell_type": "code",
   "execution_count": null,
   "id": "db040403-2062-48f7-8a41-7fec8e72836a",
   "metadata": {},
   "outputs": [],
   "source": []
  },
  {
   "cell_type": "markdown",
   "id": "f782007d-1e31-4752-bdc2-356b5e568054",
   "metadata": {},
   "source": [
    "## 1.10. Removing Duplicates from a Sequence while Maintaining Order\n",
    "\n",
    "### Problem\n",
    "\n",
    "You want to eliminate the duplicate values in a sequence, but preserve the order of the remaining items.\n",
    "\n",
    "### Solution\n",
    "\n",
    "If the values in the sequence are hashable, the problem can be easily solved using a set and a generator."
   ]
  }
 ],
 "metadata": {
  "kernelspec": {
   "display_name": "Python 3 (ipykernel)",
   "language": "python",
   "name": "python3"
  },
  "language_info": {
   "codemirror_mode": {
    "name": "ipython",
    "version": 3
   },
   "file_extension": ".py",
   "mimetype": "text/x-python",
   "name": "python",
   "nbconvert_exporter": "python",
   "pygments_lexer": "ipython3",
   "version": "3.11.9"
  }
 },
 "nbformat": 4,
 "nbformat_minor": 5
}
